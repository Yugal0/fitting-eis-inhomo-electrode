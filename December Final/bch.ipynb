{
 "cells": [
  {
   "cell_type": "code",
   "execution_count": null,
   "metadata": {},
   "outputs": [],
   "source": [
    "import numpy as np\n",
    "from impedance.preprocessing import readCSV, readBioLogic\n",
    "from impedance.visualization import plot_nyquist,plot_bode\n",
    "from impedance.models.circuits import CustomCircuit"
   ]
  }
 ],
 "metadata": {
  "language_info": {
   "name": "python"
  }
 },
 "nbformat": 4,
 "nbformat_minor": 2
}
