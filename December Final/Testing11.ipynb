{
 "cells": [
  {
   "cell_type": "code",
   "execution_count": null,
   "metadata": {},
   "outputs": [],
   "source": [
    "#take a model and know all the parameters that it take, generate the synthetic data, for some values of the parameters and then fit this same model on the synthetic data, need to see a fitting paper first.I can see the effect of choosing a suitable initial guess, or I can see the effect of the ratio of the R1 and R2 in the parameter values for which the data is generated.If I am taking any initial guess, then how do I make parameter values choose aa hsusdfha idsvnsvnsvni i, all the models are in model file. also I will need to save the results. before saving the results, I will need to generate the results. "
   ]
  },
  {
   "cell_type": "code",
   "execution_count": 6,
   "metadata": {},
   "outputs": [
    {
     "name": "stdout",
     "output_type": "stream",
     "text": [
      "\n"
     ]
    }
   ],
   "source": [
    "# where are all the models stored at the first place...? Inside the models file actually, does I need to keep that file up always, yes, do I need to have that file.\n",
    "# With the press of  one button I should get all the results saved at their respective folders, should I stay in this github repo or should I create a new repo.\n",
    "# I have to organize a lot of things about 10 things, there is red light on my laptop, how nice was it to read the matplotlib book and then conquered the fear of unknown, like that if we have this and that for github, one day fear of github will also go, and then something about how we ship software, and then we go into the dream land.\n",
    "#how beautiful will it be to see\n",
    "#how much can be done in a day?\n"
   ]
  },
  {
   "cell_type": "code",
   "execution_count": null,
   "metadata": {},
   "outputs": [],
   "source": [
    "#models contain the list of all the diff models\n",
    "# for m in models:\n",
    "#     results_for_m=do_sensi_analysis(m,\"set some initial guess, dont bother me\")\n",
    "\n",
    "#what is there in the results, results have a image of the fit and also the profile of the actual impedance data and the fitted profile.\n",
    "\n",
    "#so this is all \n",
    "#now I am going to find a paper on fitting that explains something I will search impedance fitting, but I have done this before, but still I will do \n",
    "# ok I have 5 min to do it again "
   ]
  },
  {
   "cell_type": "code",
   "execution_count": 4,
   "metadata": {},
   "outputs": [
    {
     "name": "stderr",
     "output_type": "stream",
     "text": [
      "c:\\Users\\Gaming\\AppData\\Local\\Programs\\Python\\Python311\\Lib\\site-packages\\impedance\\models\\circuits\\circuits.py:145: UserWarning: Simulating circuit based on initial parameters\n",
      "  warnings.warn(\"Simulating circuit based on initial parameters\")\n"
     ]
    }
   ],
   "source": [
    "from models import *\n",
    "\n",
    "Q=6.61e-4\n",
    "alpha=1\n",
    "\n",
    "#for uniform\n",
    "tuni=3.55\n",
    "Rref=194.56\n",
    "\n",
    "#two step profile\n",
    "t21=4.84\n",
    "t22=2.30\n",
    "delta1=0.2\n",
    "\n",
    "#three step profile\n",
    "t31=5.22\n",
    "t32=3.47\n",
    "t33=2.15\n",
    "delta1=0.12\n",
    "delta2=0.17\n",
    "\n",
    "\n",
    "model_to_gen_uni=CustomCircuit(initial_guess=[Rref*tuni,Q],circuit=\"TLMuni_1\")\n",
    "# R1, R1Q, R2Q, delta1, alpha\n",
    "model_to_gen_two_step=CustomCircuit(initial_guess=[Rref*t21,Rref*t21*Q,Rref*t22*Q,delta1,alpha],circuit=\"TLMtwo_1\")\n",
    "# R1, R1Q, R2Q, R3Q, delta1, delta2, alpha\n",
    "model_to_gen_three_step=CustomCircuit(initial_guess=[Rref*t31,Rref*t31*Q,Rref*t32*Q,Rref*t33*Q,delta1,delta2,alpha],circuit=\"TLMthree_1\")\n",
    "\n",
    "f=np.logspace(-3,3,100)\n",
    "\n",
    "z_data_from_uni=model_to_gen_uni.predict(frequencies=f)\n",
    "z_data_from_two_step=model_to_gen_two_step.predict(frequencies=f)\n",
    "z_data_from_three_step=model_to_gen_three_step.predict(frequencies=f)\n",
    "\n",
    "model_to_fit_uni=CustomCircuit(initial_guess=[100,1e-3],circuit=\"TLMuni_1\")\n",
    "model_to_fit_two_step=CustomCircuit(initial_guess=[100,1e-2,1e-2,0.6,0.9],circuit=\"TLMtwo_1\")\n",
    "model_to_fit_three_step=CustomCircuit(initial_guess=[100,1e-2,1e-2,1e-2,0.2,0.2,0.9],circuit=\"TLMthree_1\")\n",
    "\n",
    "\n",
    "\n",
    "\n",
    "\n",
    "# for m in models:\n",
    "#     rslt=fit_model_on_exp(m,data_for_m_taken_from_paper)\n",
    "#     data_for_m_taken_from_paper=[uni,twostep,threestep,lin,ilin]\n",
    "#     print(rslt)\n",
    "\n",
    "# model\n"
   ]
  },
  {
   "cell_type": "code",
   "execution_count": null,
   "metadata": {},
   "outputs": [],
   "source": []
  }
 ],
 "metadata": {
  "kernelspec": {
   "display_name": "Python 3",
   "language": "python",
   "name": "python3"
  },
  "language_info": {
   "codemirror_mode": {
    "name": "ipython",
    "version": 3
   },
   "file_extension": ".py",
   "mimetype": "text/x-python",
   "name": "python",
   "nbconvert_exporter": "python",
   "pygments_lexer": "ipython3",
   "version": "3.11.4"
  }
 },
 "nbformat": 4,
 "nbformat_minor": 2
}
