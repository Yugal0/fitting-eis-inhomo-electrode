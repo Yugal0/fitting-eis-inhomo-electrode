{
 "cells": [
  {
   "cell_type": "code",
   "execution_count": null,
   "metadata": {},
   "outputs": [],
   "source": [
    "#take a model and know all the parameters that it take, generate the synthetic data, for some values of the parameters and then fit this same model on the synthetic data, need to see a fitting paper first.I can see the effect of choosing a suitable initial guess, or I can see the effect of the ratio of the R1 and R2 in the parameter values for which the data is generated.If I am taking any initial guess, then how do I make parameter values choose aa hsusdfha idsvnsvnsvni i, all the models are in model file. also I will need to save the results. before saving the results, I will need to generate the results. "
   ]
  },
  {
   "cell_type": "code",
   "execution_count": 6,
   "metadata": {},
   "outputs": [
    {
     "name": "stdout",
     "output_type": "stream",
     "text": [
      "\n"
     ]
    }
   ],
   "source": [
    "# where are all the models stored at the first place...? Inside the models file actually, does I need to keep that file up always, yes, do I need to have that file.\n",
    "# With the press of  one button I should get all the results saved at their respective folders, should I stay in this github repo or should I create a new repo.\n",
    "# I have to organize a lot of things about 10 things, there is red light on my laptop, how nice was it to read the matplotlib book and then conquered the fear of unknown, like that if we have this and that for github, one day fear of github will also go, and then something about how we ship software, and then we go into the dream land.\n",
    "#how beautiful will it be to see\n",
    "#how much can be done in a day?\n"
   ]
  },
  {
   "cell_type": "code",
   "execution_count": null,
   "metadata": {},
   "outputs": [],
   "source": [
    "#models contain the list of all the diff models\n",
    "for m in models:\n",
    "    results_for_m=do_sensi_analysis(m,\"set some initial guess, dont bother me\")\n",
    "\n",
    "#what is there in the results, results have a image of the fit and also the profile of the actual impedance data and the fitted profile.\n",
    "\n",
    "#so this is all \n",
    "#now I am going to find a paper on fitting that explains something I will search impedance fitting, but I have done this before, but still I will do \n",
    "# ok I have 5 min to do it again "
   ]
  },
  {
   "cell_type": "code",
   "execution_count": null,
   "metadata": {},
   "outputs": [],
   "source": [
    "Q=6.61e-4\n",
    "alpha=1\n",
    "\n",
    "#for uniform\n",
    "t=3.55\n",
    "Rref=194.56\n",
    "\n",
    "#two step profile\n",
    "t1=4.84\n",
    "t2=2.30\n",
    "delta1=0.2\n",
    "\n",
    "#three step profile\n",
    "t1=5.22\n",
    "t2=3.47\n",
    "t3=2.15\n",
    "delta1=0.12\n",
    "delta2=0.17\n",
    "\n",
    "for m in models:\n",
    "    rslt=fit_model_on_exp(m,data_for_m_taken_from_paper)\n",
    "    data_for_m_taken_from_paper=[uni,twostep,threestep,lin,ilin]\n",
    "    print(rslt)\n",
    "\n",
    "model\n"
   ]
  }
 ],
 "metadata": {
  "kernelspec": {
   "display_name": "Python 3",
   "language": "python",
   "name": "python3"
  },
  "language_info": {
   "codemirror_mode": {
    "name": "ipython",
    "version": 3
   },
   "file_extension": ".py",
   "mimetype": "text/x-python",
   "name": "python",
   "nbconvert_exporter": "python",
   "pygments_lexer": "ipython3",
   "version": "3.10.11"
  }
 },
 "nbformat": 4,
 "nbformat_minor": 2
}
