{
 "cells": [
  {
   "cell_type": "code",
   "execution_count": null,
   "metadata": {},
   "outputs": [],
   "source": [
    "#take a model and know all the parameters that it take, generate the synthetic data, for some values of the parameters and then fit this same model on the synthetic data, need to see a fitting paper first.I can see the effect of choosing a suitable initial guess, or I can see the effect of the ratio of the R1 and R2 in the parameter values for which the data is generated.If I am taking any initial guess, then how do I make parameter values choose aa hsusdfha idsvnsvnsvni i, all the models are in model file. also I will need to save the results. before saving the results, I will need to generate the results. "
   ]
  },
  {
   "cell_type": "code",
   "execution_count": 6,
   "metadata": {},
   "outputs": [
    {
     "name": "stdout",
     "output_type": "stream",
     "text": [
      "\n"
     ]
    }
   ],
   "source": [
    "# where are all the models stored at the first place...? Inside the models file actually, does I need to keep that file up always, yes, do I need to have that file.\n",
    "# With the press of  one button I should get all the results saved at their respective folders, should I stay in this github repo or should I create a new repo.\n",
    "# I have to organize a lot of things about 10 things, there is red light on my laptop, how nice was it to read the matplotlib book and then conquered the fear of unknown, like that if we have this and that for github, one day fear of github will also go, and then something about how we ship software, and then we go into the dream land.\n",
    "#how beautiful will it be to see\n",
    "#how much can be done in a day?\n"
   ]
  },
  {
   "cell_type": "code",
   "execution_count": null,
   "metadata": {},
   "outputs": [],
   "source": [
    "#models contain the list of all the diff models\n",
    "# for m in models:\n",
    "#     results_for_m=do_sensi_analysis(m,\"set some initial guess, dont bother me\")\n",
    "\n",
    "#what is there in the results, results have a image of the fit and also the profile of the actual impedance data and the fitted profile.\n",
    "\n",
    "#so this is all \n",
    "#now I am going to find a paper on fitting that explains something I will search impedance fitting, but I have done this before, but still I will do \n",
    "# ok I have 5 min to do it again "
   ]
  },
  {
   "cell_type": "code",
   "execution_count": 7,
   "metadata": {},
   "outputs": [
    {
     "ename": "IndexError",
     "evalue": "list index out of range",
     "output_type": "error",
     "traceback": [
      "\u001b[1;31m---------------------------------------------------------------------------\u001b[0m",
      "\u001b[1;31mIndexError\u001b[0m                                Traceback (most recent call last)",
      "Cell \u001b[1;32mIn[7], line 45\u001b[0m\n\u001b[0;32m     40\u001b[0m model_to_fit_two_step\u001b[38;5;241m.\u001b[39mfit(impedance\u001b[38;5;241m=\u001b[39mz_data_from_two_step,frequencies\u001b[38;5;241m=\u001b[39mf,bounds\u001b[38;5;241m=\u001b[39m(\u001b[38;5;241m0\u001b[39m,[np\u001b[38;5;241m.\u001b[39minf,np\u001b[38;5;241m.\u001b[39minf,np\u001b[38;5;241m.\u001b[39minf,\u001b[38;5;241m1\u001b[39m,\u001b[38;5;241m1\u001b[39m]))\n\u001b[0;32m     41\u001b[0m model_to_fit_three_step\u001b[38;5;241m.\u001b[39mfit(impedance\u001b[38;5;241m=\u001b[39mz_data_from_three_step,frequencies\u001b[38;5;241m=\u001b[39mf,bounds\u001b[38;5;241m=\u001b[39m(\u001b[38;5;241m0\u001b[39m,[np\u001b[38;5;241m.\u001b[39minf,np\u001b[38;5;241m.\u001b[39minf,np\u001b[38;5;241m.\u001b[39minf,np\u001b[38;5;241m.\u001b[39minf,\u001b[38;5;241m0.5\u001b[39m,\u001b[38;5;241m0.5\u001b[39m,\u001b[38;5;241m1\u001b[39m]))\n\u001b[1;32m---> 45\u001b[0m \u001b[38;5;28;43mprint\u001b[39;49m\u001b[43m(\u001b[49m\u001b[43mmodel_to_fit_uni\u001b[49m\u001b[43m)\u001b[49m\n\u001b[0;32m     46\u001b[0m \u001b[38;5;28mprint\u001b[39m(model_to_fit_two_step)\n\u001b[0;32m     47\u001b[0m \u001b[38;5;28mprint\u001b[39m(model_to_fit_three_step)\n",
      "File \u001b[1;32mc:\\Users\\Gaming\\AppData\\Local\\Programs\\Python\\Python311\\Lib\\site-packages\\impedance\\models\\circuits\\circuits.py:197\u001b[0m, in \u001b[0;36mBaseCircuit.__str__\u001b[1;34m(self)\u001b[0m\n\u001b[0;32m    194\u001b[0m             unit \u001b[38;5;241m=\u001b[39m units[\u001b[38;5;241m0\u001b[39m]\n\u001b[0;32m    195\u001b[0m         to_print \u001b[38;5;241m+\u001b[39m\u001b[38;5;241m=\u001b[39m \u001b[38;5;124m'\u001b[39m\u001b[38;5;124m  \u001b[39m\u001b[38;5;132;01m{:>5}\u001b[39;00m\u001b[38;5;124m = \u001b[39m\u001b[38;5;132;01m{:.2e}\u001b[39;00m\u001b[38;5;124m [\u001b[39m\u001b[38;5;132;01m{}\u001b[39;00m\u001b[38;5;124m]\u001b[39m\u001b[38;5;130;01m\\n\u001b[39;00m\u001b[38;5;124m'\u001b[39m\u001b[38;5;241m.\u001b[39mformat(name, value, unit)\n\u001b[1;32m--> 197\u001b[0m names, units \u001b[38;5;241m=\u001b[39m \u001b[38;5;28;43mself\u001b[39;49m\u001b[38;5;241;43m.\u001b[39;49m\u001b[43mget_param_names\u001b[49m\u001b[43m(\u001b[49m\u001b[43m)\u001b[49m\n\u001b[0;32m    198\u001b[0m to_print \u001b[38;5;241m+\u001b[39m\u001b[38;5;241m=\u001b[39m \u001b[38;5;124m'\u001b[39m\u001b[38;5;130;01m\\n\u001b[39;00m\u001b[38;5;124mInitial guesses:\u001b[39m\u001b[38;5;130;01m\\n\u001b[39;00m\u001b[38;5;124m'\u001b[39m\n\u001b[0;32m    199\u001b[0m \u001b[38;5;28;01mfor\u001b[39;00m name, unit, param \u001b[38;5;129;01min\u001b[39;00m \u001b[38;5;28mzip\u001b[39m(names, units, \u001b[38;5;28mself\u001b[39m\u001b[38;5;241m.\u001b[39minitial_guess):\n",
      "File \u001b[1;32mc:\\Users\\Gaming\\AppData\\Local\\Programs\\Python\\Python311\\Lib\\site-packages\\impedance\\models\\circuits\\circuits.py:169\u001b[0m, in \u001b[0;36mBaseCircuit.get_param_names\u001b[1;34m(self)\u001b[0m\n\u001b[0;32m    167\u001b[0m         \u001b[38;5;28;01mif\u001b[39;00m full_name \u001b[38;5;129;01mnot\u001b[39;00m \u001b[38;5;129;01min\u001b[39;00m \u001b[38;5;28mself\u001b[39m\u001b[38;5;241m.\u001b[39mconstants\u001b[38;5;241m.\u001b[39mkeys():\n\u001b[0;32m    168\u001b[0m             full_names\u001b[38;5;241m.\u001b[39mappend(full_name)\n\u001b[1;32m--> 169\u001b[0m             all_units\u001b[38;5;241m.\u001b[39mappend(\u001b[43munits\u001b[49m\u001b[43m[\u001b[49m\u001b[43mj\u001b[49m\u001b[43m]\u001b[49m)\n\u001b[0;32m    170\u001b[0m \u001b[38;5;28;01melse\u001b[39;00m:\n\u001b[0;32m    171\u001b[0m     \u001b[38;5;28;01mif\u001b[39;00m name \u001b[38;5;129;01mnot\u001b[39;00m \u001b[38;5;129;01min\u001b[39;00m \u001b[38;5;28mself\u001b[39m\u001b[38;5;241m.\u001b[39mconstants\u001b[38;5;241m.\u001b[39mkeys():\n",
      "\u001b[1;31mIndexError\u001b[0m: list index out of range"
     ]
    }
   ],
   "source": [
    "from models import *\n",
    "\n",
    "Q=6.61e-4\n",
    "alpha=1\n",
    "\n",
    "#for uniform\n",
    "tuni=3.55\n",
    "Rref=194.56\n",
    "\n",
    "#two step profile\n",
    "t21=4.84\n",
    "t22=2.30\n",
    "delta1=0.2\n",
    "\n",
    "#three step profile\n",
    "t31=5.22\n",
    "t32=3.47\n",
    "t33=2.15\n",
    "delta1=0.12\n",
    "delta2=0.17\n",
    "\n",
    "\n",
    "model_to_gen_uni=CustomCircuit(initial_guess=[Rref*tuni,Q,alpha],circuit=\"TLMuni_1\")\n",
    "# R1, R1Q, R2Q, delta1, alpha\n",
    "model_to_gen_two_step=CustomCircuit(initial_guess=[Rref*t21,Rref*t21*Q,Rref*t22*Q,delta1,alpha],circuit=\"TLMtwo_1\")\n",
    "# R1, R1Q, R2Q, R3Q, delta1, delta2, alpha\n",
    "model_to_gen_three_step=CustomCircuit(initial_guess=[Rref*t31,Rref*t31*Q,Rref*t32*Q,Rref*t33*Q,delta1,delta2,alpha],circuit=\"TLMthree_1\")\n",
    "\n",
    "f=np.logspace(-3,3,100)\n",
    "\n",
    "z_data_from_uni=model_to_gen_uni.predict(frequencies=f)\n",
    "z_data_from_two_step=model_to_gen_two_step.predict(frequencies=f)\n",
    "z_data_from_three_step=model_to_gen_three_step.predict(frequencies=f)\n",
    "\n",
    "model_to_fit_uni=CustomCircuit(initial_guess=[100,1e-3,0.9],circuit=\"TLMuni_1\")\n",
    "model_to_fit_two_step=CustomCircuit(initial_guess=[100,1e-2,1e-2,0.6,0.9],circuit=\"TLMtwo_1\")\n",
    "model_to_fit_three_step=CustomCircuit(initial_guess=[100,1e-2,1e-2,1e-2,0.2,0.2,0.9],circuit=\"TLMthree_1\")\n",
    "\n",
    "model_to_fit_uni.fit(impedance=z_data_from_uni,frequencies=f,bounds=(0,[np.inf,np.inf,1]))\n",
    "model_to_fit_two_step.fit(impedance=z_data_from_two_step,frequencies=f,bounds=(0,[np.inf,np.inf,np.inf,1,1]))\n",
    "model_to_fit_three_step.fit(impedance=z_data_from_three_step,frequencies=f,bounds=(0,[np.inf,np.inf,np.inf,np.inf,0.5,0.5,1]))\n",
    "\n",
    "\n",
    "\n",
    "print(model_to_fit_uni)\n",
    "print(model_to_fit_two_step)\n",
    "print(model_to_fit_three_step)\n",
    "\n",
    "\n",
    "# for m in models:\n",
    "#     rslt=fit_model_on_exp(m,data_for_m_taken_from_paper)\n",
    "#     data_for_m_taken_from_paper=[uni,twostep,threestep,lin,ilin]\n",
    "#     print(rslt)\n",
    "\n",
    "# model\n"
   ]
  },
  {
   "cell_type": "code",
   "execution_count": null,
   "metadata": {},
   "outputs": [],
   "source": []
  }
 ],
 "metadata": {
  "kernelspec": {
   "display_name": "Python 3",
   "language": "python",
   "name": "python3"
  },
  "language_info": {
   "codemirror_mode": {
    "name": "ipython",
    "version": 3
   },
   "file_extension": ".py",
   "mimetype": "text/x-python",
   "name": "python",
   "nbconvert_exporter": "python",
   "pygments_lexer": "ipython3",
   "version": "3.11.4"
  }
 },
 "nbformat": 4,
 "nbformat_minor": 2
}
