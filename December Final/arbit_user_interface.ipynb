{
 "cells": [
  {
   "cell_type": "markdown",
   "metadata": {},
   "source": [
    "### Import the needed Modules"
   ]
  },
  {
   "cell_type": "code",
   "execution_count": 6,
   "metadata": {},
   "outputs": [],
   "source": [
    "# from models import *\n",
    "from impedance.models.circuits.elements import element\n",
    "# from models import find_index_of_nearest\n",
    "from impedance.preprocessing import readCSV, readBioLogic\n",
    "from impedance.visualization import plot_nyquist,plot_bode\n",
    "from impedance.models.circuits import CustomCircuit\n",
    "import numpy as np\n",
    "import scipy as sp\n",
    "import matplotlib.pyplot as plt\n",
    "from arbitau import give_z_for_arbitary_tau, tau_plotter\n",
    "from scipy.integrate import solve_bvp"
   ]
  },
  {
   "cell_type": "markdown",
   "metadata": {},
   "source": [
    "### Generate the Impedance Data"
   ]
  },
  {
   "cell_type": "code",
   "execution_count": 16,
   "metadata": {},
   "outputs": [
    {
     "name": "stderr",
     "output_type": "stream",
     "text": [
      "c:\\Users\\Gaming\\AppData\\Local\\Programs\\Python\\Python311\\Lib\\site-packages\\impedance\\models\\circuits\\circuits.py:145: UserWarning: Simulating circuit based on initial parameters\n",
      "  warnings.warn(\"Simulating circuit based on initial parameters\")\n"
     ]
    }
   ],
   "source": [
    "freq_list=np.logspace(-1,2,100)\n",
    "#parameter for the TLM\n",
    "Q=1e-6\n",
    "alpha=1\n",
    "\n",
    "R1=400\n",
    "delta1=0.3\n",
    "R2=400\n",
    "R3=400\n",
    "delta2=0.3\n",
    "\n",
    "\n",
    "#initial guesses for the HFR intercept and for any semicircle like features in the EIS data\n",
    "Rhfr=40\n",
    "Rrxn=40\n",
    "Qdl=1e-6\n",
    "alpha2=1\n",
    "\n",
    "#For Two-step provide R1,R2,Q,delta1,alpha\n",
    "#For Three-step provide R1,R2,R3,Q,delta1,delta2,alpha\n",
    "#For Linear provide R1,R2,Q,alpha\n",
    "#For Inv-Linear provide R1,R2,Q,alpha\n",
    "\n",
    "\n",
    "#---uncomment the line below for fitting the uniform tortuosity profile---\n",
    "\n",
    "#for uniform tortuosity\n",
    "#cmodel=CustomCircuit(initial_guess=[R1,Q,alpha,Rhfr,Rrxn,Qdl,alpha2],circuit=\"TLMuni_1-R_1-p(R_2,CPE_1)\")\n",
    "\n",
    "#for two-step tortuosity\n",
    "#cmodel=CustomCircuit(initial_guess=[R1,R1*Q,R2*Q,delta1,alpha,Rhfr,Rrxn,Qdl,alpha2],circuit=\"TLMtwo_1-R_1-p(R_2,CPE_1)\")\n",
    "\n",
    "#for three-step tortuosity \n",
    "cmodel_for_data=CustomCircuit(initial_guess=[R1,R1*Q,R2*Q,R3*Q,delta1,delta2,alpha,Rhfr,Rrxn,Qdl,alpha2],circuit=\"TLMthree_1-R_1-p(R_2,CPE_1)\")\n",
    "\n",
    "#for linear tortuosity\n",
    "# cmodel=CustomCircuit(initial_guess=[R1,R1*Q,R2*Q,alpha,Rhfr,Rrxn,Qdl,alpha2],circuit=\"TLMlin_1-R_1-p(R_2,CPE_1)\")\n",
    "\n",
    "#for inverse-linear tortuosity\n",
    "# cmodel=CustomCircuit(initial_guess=[R1,R1*Q,R2*Q,alpha,Rhfr,Rrxn,Qdl,alpha2],circuit=\"TLMilin_1-R_1-p(R_2,CPE_1)\")\n",
    "\n",
    "zexp_to_fit=cmodel_for_data.predict(frequencies=freq_list)"
   ]
  },
  {
   "cell_type": "markdown",
   "metadata": {},
   "source": [
    "### The numerical BVP solving for Arbitary profile "
   ]
  },
  {
   "cell_type": "code",
   "execution_count": 13,
   "metadata": {},
   "outputs": [],
   "source": [
    "@element(num_params=4,units=[\"\",\"\",\"\",\"\",\"\"],overwrite=True)\n",
    "def arbitRCPE(p,f):\n",
    "    # modify the number of parameters according to the torutosity function\n",
    "    Q, alpha, a, b = p[0], p[1], p[2], p[3]\n",
    "\n",
    "    #we want to give only R1 and R2 and one two more parameters\n",
    "    # provide the definition for the arbitrary tortuosity function\n",
    "    \n",
    "    def R(x):\n",
    "        # return 5+np.tanh(x*10-3)+2*np.tanh(x*10-5)\n",
    "        return 300+np.tanh(x*10-a)+2*np.tanh(x*10-b)\n",
    "    \n",
    "    def fun(x,y,lmdcos,lmdsin):\n",
    "        return np.vstack((y[2]*R(x),y[3]*R(x),lmdcos*y[0]-lmdsin*y[1],lmdcos*y[1]+lmdsin*y[0]))\n",
    "\n",
    "    def bc(ya,yb):\n",
    "        return np.array([ya[0]-1,yb[2],yb[3],ya[1]])\n",
    "\n",
    "\n",
    "    x=np.linspace(0,1,1000)\n",
    "    y=np.zeros((4,x.size))\n",
    "\n",
    "    Z_list=np.zeros((np.size(np.array(f))),dtype=complex)\n",
    "    ii=0\n",
    "    for freq in np.array(f):\n",
    "        w=2*np.pi*freq\n",
    "        lmdcos=w**alpha*Q*(alpha*np.pi/2)\n",
    "        lmdsin=w**alpha*Q*np.sin(alpha*np.pi/2)\n",
    "        sol1 = solve_bvp(lambda x,y: fun(x,y,lmdcos=lmdcos,lmdsin=lmdsin), bc, x, y)\n",
    "        y3=sol1.sol(x)[2]\n",
    "        y4=sol1.sol(x)[3]\n",
    "        Z=2/(-(y3[0]+y4[0]*1j))\n",
    "        Z_list[ii]=Z\n",
    "        ii=ii+1\n",
    "\n",
    "    return Z_list\n"
   ]
  },
  {
   "cell_type": "code",
   "execution_count": 14,
   "metadata": {},
   "outputs": [],
   "source": [
    "Q=6.61e-4\n",
    "a=5\n",
    "b=3\n",
    "cmodel=CustomCircuit(initial_guess=[Q,1,a,b,Rhfr,Rrxn,Qdl,alpha2],circuit=\"arbitRCPE_1-R_1-p(R_2,CPE_1)\")\n",
    "\n",
    "cmodel.fit(impedance=)"
   ]
  }
 ],
 "metadata": {
  "kernelspec": {
   "display_name": "Python 3",
   "language": "python",
   "name": "python3"
  },
  "language_info": {
   "codemirror_mode": {
    "name": "ipython",
    "version": 3
   },
   "file_extension": ".py",
   "mimetype": "text/x-python",
   "name": "python",
   "nbconvert_exporter": "python",
   "pygments_lexer": "ipython3",
   "version": "3.11.4"
  }
 },
 "nbformat": 4,
 "nbformat_minor": 2
}
