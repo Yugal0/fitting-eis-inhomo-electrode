{
 "cells": [
  {
   "cell_type": "code",
   "execution_count": null,
   "metadata": {},
   "outputs": [],
   "source": [
    "#generate the impeadance data for a two step profile with delta= 0.5\n",
    "#plot the phase angle vs freq, bode plot for the generated data\n",
    "\n",
    "#open the Basudevs Paper and study what the method of dip angle analysis is\n",
    "#see the bode plot and using the method of dip angle analysis, predict the 2-step profile which fits this data , predict the lin and inv-lin using the dip angle analysis"
   ]
  },
  {
   "cell_type": "code",
   "execution_count": null,
   "metadata": {},
   "outputs": [],
   "source": []
  }
 ],
 "metadata": {
  "language_info": {
   "name": "python"
  }
 },
 "nbformat": 4,
 "nbformat_minor": 2
}
