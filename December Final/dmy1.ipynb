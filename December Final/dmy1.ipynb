{
 "cells": [
  {
   "cell_type": "code",
   "execution_count": null,
   "metadata": {},
   "outputs": [],
   "source": [
    "#generate the impeadance data for a two step profile that looks like an inv-Linear\n",
    "#plot the phase angle vs freq, bode plot for this arbit profile eletrode\n",
    "\n",
    "#open the Basudevs Paper and study what the method of dip angle analysis is\n",
    "#find the "
   ]
  }
 ],
 "metadata": {
  "language_info": {
   "name": "python"
  }
 },
 "nbformat": 4,
 "nbformat_minor": 2
}
