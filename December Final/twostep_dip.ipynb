{
 "cells": [
  {
   "cell_type": "code",
   "execution_count": null,
   "metadata": {},
   "outputs": [],
   "source": [
    "#generate the impeadance data for a two step profile with delta= 0.5\n",
    "#plot the phase angle vs freq, bode plot for the generated data\n",
    "\n",
    "#open the Basudevs Paper and study what the method of dip angle analysis is\n",
    "#see the bode plot and using the method of dip angle analysis, predict the 2-step profile which fits this data , predict the lin and inv-lin using the dip angle analysis"
   ]
  },
  {
   "cell_type": "code",
   "execution_count": 2,
   "metadata": {},
   "outputs": [
    {
     "ename": "ValueError",
     "evalue": "TLMlinnew not in allowed elements (dict_keys(['s', 'p', 'R', 'C', 'L', 'W', 'Wo', 'Ws', 'CPE', 'La', 'G', 'Gs', 'K', 'TLMQ', 'TLMtwo', 'TLMthree', 'T', 'TLMuni', 'TLMlin', 'TLMlinzert', 'TLMilin', 'TLMilinzert', '__builtins__']))",
     "output_type": "error",
     "traceback": [
      "\u001b[1;31m---------------------------------------------------------------------------\u001b[0m",
      "\u001b[1;31mValueError\u001b[0m                                Traceback (most recent call last)",
      "Cell \u001b[1;32mIn[2], line 33\u001b[0m\n\u001b[0;32m     30\u001b[0m alpha2\u001b[38;5;241m=\u001b[39m\u001b[38;5;241m1\u001b[39m\n\u001b[0;32m     32\u001b[0m \u001b[38;5;66;03m# cmodel=CustomCircuit(initial_guess=[R1,R1*Q,R2*Q,delta1,alpha],circuit=\"TLMtwo_1\")\u001b[39;00m\n\u001b[1;32m---> 33\u001b[0m cmodel\u001b[38;5;241m=\u001b[39m\u001b[43mCustomCircuit\u001b[49m\u001b[43m(\u001b[49m\u001b[43minitial_guess\u001b[49m\u001b[38;5;241;43m=\u001b[39;49m\u001b[43m[\u001b[49m\u001b[43mR1\u001b[49m\u001b[43m,\u001b[49m\u001b[43mR1\u001b[49m\u001b[38;5;241;43m*\u001b[39;49m\u001b[43mQ\u001b[49m\u001b[43m,\u001b[49m\u001b[43mR2\u001b[49m\u001b[38;5;241;43m*\u001b[39;49m\u001b[43mQ\u001b[49m\u001b[43m,\u001b[49m\u001b[43malpha\u001b[49m\u001b[43m]\u001b[49m\u001b[43m,\u001b[49m\u001b[43mcircuit\u001b[49m\u001b[38;5;241;43m=\u001b[39;49m\u001b[38;5;124;43m\"\u001b[39;49m\u001b[38;5;124;43mTLMlinnew_1\u001b[39;49m\u001b[38;5;124;43m\"\u001b[39;49m\u001b[43m)\u001b[49m\n\u001b[0;32m     35\u001b[0m zexp\u001b[38;5;241m=\u001b[39mcmodel\u001b[38;5;241m.\u001b[39mpredict(frequencies\u001b[38;5;241m=\u001b[39mfreq_list)\n\u001b[0;32m     37\u001b[0m fig\u001b[38;5;241m=\u001b[39m plt\u001b[38;5;241m.\u001b[39mfigure()\n",
      "File \u001b[1;32m~\\AppData\\Local\\Packages\\PythonSoftwareFoundation.Python.3.10_qbz5n2kfra8p0\\LocalCache\\local-packages\\Python310\\site-packages\\impedance\\models\\circuits\\circuits.py:435\u001b[0m, in \u001b[0;36mCustomCircuit.__init__\u001b[1;34m(self, circuit, **kwargs)\u001b[0m\n\u001b[0;32m    432\u001b[0m \u001b[38;5;28msuper\u001b[39m()\u001b[38;5;241m.\u001b[39m\u001b[38;5;21m__init__\u001b[39m(\u001b[38;5;241m*\u001b[39m\u001b[38;5;241m*\u001b[39mkwargs)\n\u001b[0;32m    433\u001b[0m \u001b[38;5;28mself\u001b[39m\u001b[38;5;241m.\u001b[39mcircuit \u001b[38;5;241m=\u001b[39m circuit\u001b[38;5;241m.\u001b[39mreplace(\u001b[38;5;124m\"\u001b[39m\u001b[38;5;124m \u001b[39m\u001b[38;5;124m\"\u001b[39m, \u001b[38;5;124m\"\u001b[39m\u001b[38;5;124m\"\u001b[39m)\n\u001b[1;32m--> 435\u001b[0m circuit_len \u001b[38;5;241m=\u001b[39m \u001b[43mcalculateCircuitLength\u001b[49m\u001b[43m(\u001b[49m\u001b[38;5;28;43mself\u001b[39;49m\u001b[38;5;241;43m.\u001b[39;49m\u001b[43mcircuit\u001b[49m\u001b[43m)\u001b[49m\n\u001b[0;32m    437\u001b[0m \u001b[38;5;28;01mif\u001b[39;00m \u001b[38;5;28mlen\u001b[39m(\u001b[38;5;28mself\u001b[39m\u001b[38;5;241m.\u001b[39minitial_guess) \u001b[38;5;241m+\u001b[39m \u001b[38;5;28mlen\u001b[39m(\u001b[38;5;28mself\u001b[39m\u001b[38;5;241m.\u001b[39mconstants) \u001b[38;5;241m!=\u001b[39m circuit_len:\n\u001b[0;32m    438\u001b[0m     \u001b[38;5;28;01mraise\u001b[39;00m \u001b[38;5;167;01mValueError\u001b[39;00m(\u001b[38;5;124m'\u001b[39m\u001b[38;5;124mThe number of initial guesses \u001b[39m\u001b[38;5;124m'\u001b[39m \u001b[38;5;241m+\u001b[39m\n\u001b[0;32m    439\u001b[0m                      \u001b[38;5;124mf\u001b[39m\u001b[38;5;124m'\u001b[39m\u001b[38;5;124m(\u001b[39m\u001b[38;5;132;01m{\u001b[39;00m\u001b[38;5;28mlen\u001b[39m(\u001b[38;5;28mself\u001b[39m\u001b[38;5;241m.\u001b[39minitial_guess)\u001b[38;5;132;01m}\u001b[39;00m\u001b[38;5;124m) + \u001b[39m\u001b[38;5;124m'\u001b[39m \u001b[38;5;241m+\u001b[39m\n\u001b[0;32m    440\u001b[0m                      \u001b[38;5;124m'\u001b[39m\u001b[38;5;124mthe number of constants \u001b[39m\u001b[38;5;124m'\u001b[39m \u001b[38;5;241m+\u001b[39m\n\u001b[0;32m    441\u001b[0m                      \u001b[38;5;124mf\u001b[39m\u001b[38;5;124m'\u001b[39m\u001b[38;5;124m(\u001b[39m\u001b[38;5;132;01m{\u001b[39;00m\u001b[38;5;28mlen\u001b[39m(\u001b[38;5;28mself\u001b[39m\u001b[38;5;241m.\u001b[39mconstants)\u001b[38;5;132;01m}\u001b[39;00m\u001b[38;5;124m)\u001b[39m\u001b[38;5;124m'\u001b[39m \u001b[38;5;241m+\u001b[39m\n\u001b[0;32m    442\u001b[0m                      \u001b[38;5;124m'\u001b[39m\u001b[38;5;124m must be equal to \u001b[39m\u001b[38;5;124m'\u001b[39m \u001b[38;5;241m+\u001b[39m\n\u001b[0;32m    443\u001b[0m                      \u001b[38;5;124mf\u001b[39m\u001b[38;5;124m'\u001b[39m\u001b[38;5;124mthe circuit length (\u001b[39m\u001b[38;5;132;01m{\u001b[39;00mcircuit_len\u001b[38;5;132;01m}\u001b[39;00m\u001b[38;5;124m)\u001b[39m\u001b[38;5;124m'\u001b[39m)\n",
      "File \u001b[1;32m~\\AppData\\Local\\Packages\\PythonSoftwareFoundation.Python.3.10_qbz5n2kfra8p0\\LocalCache\\local-packages\\Python310\\site-packages\\impedance\\models\\circuits\\fitting.py:417\u001b[0m, in \u001b[0;36mcalculateCircuitLength\u001b[1;34m(circuit)\u001b[0m\n\u001b[0;32m    415\u001b[0m     \u001b[38;5;28;01mfor\u001b[39;00m elem \u001b[38;5;129;01min\u001b[39;00m extracted_elements:\n\u001b[0;32m    416\u001b[0m         raw_element \u001b[38;5;241m=\u001b[39m get_element_from_name(elem)\n\u001b[1;32m--> 417\u001b[0m         num_params \u001b[38;5;241m=\u001b[39m \u001b[43mcheck_and_eval\u001b[49m\u001b[43m(\u001b[49m\u001b[43mraw_element\u001b[49m\u001b[43m)\u001b[49m\u001b[38;5;241m.\u001b[39mnum_params\n\u001b[0;32m    418\u001b[0m         length \u001b[38;5;241m+\u001b[39m\u001b[38;5;241m=\u001b[39m num_params\n\u001b[0;32m    419\u001b[0m \u001b[38;5;28;01mreturn\u001b[39;00m length\n",
      "File \u001b[1;32m~\\AppData\\Local\\Packages\\PythonSoftwareFoundation.Python.3.10_qbz5n2kfra8p0\\LocalCache\\local-packages\\Python310\\site-packages\\impedance\\models\\circuits\\fitting.py:442\u001b[0m, in \u001b[0;36mcheck_and_eval\u001b[1;34m(element)\u001b[0m\n\u001b[0;32m    440\u001b[0m allowed_elements \u001b[38;5;241m=\u001b[39m circuit_elements\u001b[38;5;241m.\u001b[39mkeys()\n\u001b[0;32m    441\u001b[0m \u001b[38;5;28;01mif\u001b[39;00m element \u001b[38;5;129;01mnot\u001b[39;00m \u001b[38;5;129;01min\u001b[39;00m allowed_elements:\n\u001b[1;32m--> 442\u001b[0m     \u001b[38;5;28;01mraise\u001b[39;00m \u001b[38;5;167;01mValueError\u001b[39;00m(\u001b[38;5;124mf\u001b[39m\u001b[38;5;124m'\u001b[39m\u001b[38;5;132;01m{\u001b[39;00melement\u001b[38;5;132;01m}\u001b[39;00m\u001b[38;5;124m not in \u001b[39m\u001b[38;5;124m'\u001b[39m \u001b[38;5;241m+\u001b[39m\n\u001b[0;32m    443\u001b[0m                      \u001b[38;5;124mf\u001b[39m\u001b[38;5;124m'\u001b[39m\u001b[38;5;124mallowed elements (\u001b[39m\u001b[38;5;132;01m{\u001b[39;00mallowed_elements\u001b[38;5;132;01m}\u001b[39;00m\u001b[38;5;124m)\u001b[39m\u001b[38;5;124m'\u001b[39m)\n\u001b[0;32m    444\u001b[0m \u001b[38;5;28;01melse\u001b[39;00m:\n\u001b[0;32m    445\u001b[0m     \u001b[38;5;28;01mreturn\u001b[39;00m \u001b[38;5;28meval\u001b[39m(element, circuit_elements)\n",
      "\u001b[1;31mValueError\u001b[0m: TLMlinnew not in allowed elements (dict_keys(['s', 'p', 'R', 'C', 'L', 'W', 'Wo', 'Ws', 'CPE', 'La', 'G', 'Gs', 'K', 'TLMQ', 'TLMtwo', 'TLMthree', 'T', 'TLMuni', 'TLMlin', 'TLMlinzert', 'TLMilin', 'TLMilinzert', '__builtins__']))"
     ]
    }
   ],
   "source": [
    "%matplotlib ipympl\n",
    "from models import *\n",
    "# from models import find_index_of_nearest\n",
    "from impedance.preprocessing import readCSV, readBioLogic\n",
    "from impedance.visualization import plot_nyquist,plot_bode\n",
    "from impedance.models.circuits import CustomCircuit\n",
    "import numpy as np\n",
    "import scipy as sp\n",
    "import matplotlib.pyplot as plt\n",
    "from arbitau import give_z_for_arbitary_tau, tau_plotter\n",
    "from scipy.integrate import solve_bvp\n",
    "\n",
    "\n",
    "#gen data\n",
    "\n",
    "freq_list=np.logspace(-1,4,100)\n",
    "\n",
    "Q=6.61e-4\n",
    "alpha=1\n",
    "\n",
    "R1=5.22*194.5\n",
    "delta1=0.12\n",
    "R2=3.47*194.5\n",
    "delta2=0.17\n",
    "R3=2.15*194.5\n",
    "\n",
    "Rhfr=40\n",
    "Rrxn=40\n",
    "Qdl=1e-6\n",
    "alpha2=1\n",
    "\n",
    "# cmodel=CustomCircuit(initial_guess=[R1,R1*Q,R2*Q,delta1,alpha],circuit=\"TLMtwo_1\")\n",
    "cmodel=CustomCircuit(initial_guess=[R1,R1*Q,R2*Q,alpha],circuit=\"TLMlinnew_1\")\n",
    "\n",
    "zexp=cmodel.predict(frequencies=freq_list)\n",
    "\n",
    "fig= plt.figure()\n",
    "ax_nyq=fig.add_subplot()\n",
    "\n",
    "fig2 = plt.figure()\n",
    "ax_phs=fig2.add_subplot()\n",
    "\n",
    "#plot nyquist plot of the taken data\n",
    "plot_nyquist(zexp,ax=ax_nyq,labelsize=10,ticksize=8)\n",
    "\n",
    "#plot bode plot of the taken data\n",
    "ax_phs.plot(freq_list, -np.angle(zexp, deg=True), '.-',color=\"black\")\n",
    "ax_phs.set_ylabel(r'$-\\phi_Z(\\omega)$' + r'$[^o]$', fontsize=10,color=\"black\")\n",
    "ax_phs.set_xscale('log')\n",
    "ax_phs.tick_params(axis='y', labelcolor=\"red\")\n",
    "ax_phs.grid()\n",
    "fig.tight_layout()\n",
    "\n",
    "print(np.min(-np.angle(zexp,deg=True)))\n",
    "dip_angle = alpha*45-np.min(-np.angle(zexp,deg=True))\n",
    "print(dip_angle)"
   ]
  }
 ],
 "metadata": {
  "kernelspec": {
   "display_name": "Python 3",
   "language": "python",
   "name": "python3"
  },
  "language_info": {
   "codemirror_mode": {
    "name": "ipython",
    "version": 3
   },
   "file_extension": ".py",
   "mimetype": "text/x-python",
   "name": "python",
   "nbconvert_exporter": "python",
   "pygments_lexer": "ipython3",
   "version": "3.10.11"
  }
 },
 "nbformat": 4,
 "nbformat_minor": 2
}
