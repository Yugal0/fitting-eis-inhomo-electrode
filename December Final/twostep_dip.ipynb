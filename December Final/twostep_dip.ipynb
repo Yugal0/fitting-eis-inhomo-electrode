{
 "cells": [
  {
   "cell_type": "code",
   "execution_count": null,
   "metadata": {},
   "outputs": [],
   "source": [
    "#generate the impeadance data for a two step profile with delta= 0.5\n",
    "#plot the phase angle vs freq, bode plot for the generated data\n",
    "\n",
    "#open the Basudevs Paper and study what the method of dip angle analysis is\n",
    "#see the bode plot and using the method of dip angle analysis, predict the 2-step profile which fits this data , predict the lin and inv-lin using the dip angle analysis"
   ]
  },
  {
   "cell_type": "code",
   "execution_count": 1,
   "metadata": {},
   "outputs": [
    {
     "name": "stderr",
     "output_type": "stream",
     "text": [
      "C:\\Users\\admin\\AppData\\Local\\Packages\\PythonSoftwareFoundation.Python.3.10_qbz5n2kfra8p0\\LocalCache\\local-packages\\Python310\\site-packages\\impedance\\models\\circuits\\circuits.py:144: UserWarning: Simulating circuit based on initial parameters\n",
      "  warnings.warn(\"Simulating circuit based on initial parameters\")\n"
     ]
    },
    {
     "ename": "ZeroDivisionError",
     "evalue": "",
     "output_type": "error",
     "traceback": [
      "\u001b[1;31m---------------------------------------------------------------------------\u001b[0m",
      "\u001b[1;31mZeroDivisionError\u001b[0m                         Traceback (most recent call last)",
      "Cell \u001b[1;32mIn[1], line 35\u001b[0m\n\u001b[0;32m     32\u001b[0m \u001b[38;5;66;03m# cmodel=CustomCircuit(initial_guess=[R1,R1*Q,R2*Q,delta1,alpha],circuit=\"TLMtwo_1\")\u001b[39;00m\n\u001b[0;32m     33\u001b[0m cmodel\u001b[38;5;241m=\u001b[39mCustomCircuit(initial_guess\u001b[38;5;241m=\u001b[39m[R1,R1\u001b[38;5;241m*\u001b[39mQ,R2\u001b[38;5;241m*\u001b[39mQ,alpha],circuit\u001b[38;5;241m=\u001b[39m\u001b[38;5;124m\"\u001b[39m\u001b[38;5;124mTLMlinnew_1\u001b[39m\u001b[38;5;124m\"\u001b[39m)\n\u001b[1;32m---> 35\u001b[0m zexp\u001b[38;5;241m=\u001b[39m\u001b[43mcmodel\u001b[49m\u001b[38;5;241;43m.\u001b[39;49m\u001b[43mpredict\u001b[49m\u001b[43m(\u001b[49m\u001b[43mfrequencies\u001b[49m\u001b[38;5;241;43m=\u001b[39;49m\u001b[43mfreq_list\u001b[49m\u001b[43m)\u001b[49m\n\u001b[0;32m     37\u001b[0m fig\u001b[38;5;241m=\u001b[39m plt\u001b[38;5;241m.\u001b[39mfigure()\n\u001b[0;32m     38\u001b[0m ax_nyq\u001b[38;5;241m=\u001b[39mfig\u001b[38;5;241m.\u001b[39madd_subplot()\n",
      "File \u001b[1;32m~\\AppData\\Local\\Packages\\PythonSoftwareFoundation.Python.3.10_qbz5n2kfra8p0\\LocalCache\\local-packages\\Python310\\site-packages\\impedance\\models\\circuits\\circuits.py:145\u001b[0m, in \u001b[0;36mBaseCircuit.predict\u001b[1;34m(self, frequencies, use_initial)\u001b[0m\n\u001b[0;32m    143\u001b[0m \u001b[38;5;28;01melse\u001b[39;00m:\n\u001b[0;32m    144\u001b[0m     warnings\u001b[38;5;241m.\u001b[39mwarn(\u001b[38;5;124m\"\u001b[39m\u001b[38;5;124mSimulating circuit based on initial parameters\u001b[39m\u001b[38;5;124m\"\u001b[39m)\n\u001b[1;32m--> 145\u001b[0m     \u001b[38;5;28;01mreturn\u001b[39;00m \u001b[38;5;28;43meval\u001b[39;49m\u001b[43m(\u001b[49m\u001b[43mbuildCircuit\u001b[49m\u001b[43m(\u001b[49m\u001b[38;5;28;43mself\u001b[39;49m\u001b[38;5;241;43m.\u001b[39;49m\u001b[43mcircuit\u001b[49m\u001b[43m,\u001b[49m\u001b[43m \u001b[49m\u001b[43mfrequencies\u001b[49m\u001b[43m,\u001b[49m\n\u001b[0;32m    146\u001b[0m \u001b[43m                             \u001b[49m\u001b[38;5;241;43m*\u001b[39;49m\u001b[38;5;28;43mself\u001b[39;49m\u001b[38;5;241;43m.\u001b[39;49m\u001b[43minitial_guess\u001b[49m\u001b[43m,\u001b[49m\n\u001b[0;32m    147\u001b[0m \u001b[43m                             \u001b[49m\u001b[43mconstants\u001b[49m\u001b[38;5;241;43m=\u001b[39;49m\u001b[38;5;28;43mself\u001b[39;49m\u001b[38;5;241;43m.\u001b[39;49m\u001b[43mconstants\u001b[49m\u001b[43m,\u001b[49m\u001b[43m \u001b[49m\u001b[43meval_string\u001b[49m\u001b[38;5;241;43m=\u001b[39;49m\u001b[38;5;124;43m'\u001b[39;49m\u001b[38;5;124;43m'\u001b[39;49m\u001b[43m,\u001b[49m\n\u001b[0;32m    148\u001b[0m \u001b[43m                             \u001b[49m\u001b[43mindex\u001b[49m\u001b[38;5;241;43m=\u001b[39;49m\u001b[38;5;241;43m0\u001b[39;49m\u001b[43m)\u001b[49m\u001b[43m[\u001b[49m\u001b[38;5;241;43m0\u001b[39;49m\u001b[43m]\u001b[49m\u001b[43m,\u001b[49m\n\u001b[0;32m    149\u001b[0m \u001b[43m                \u001b[49m\u001b[43mcircuit_elements\u001b[49m\u001b[43m)\u001b[49m\n",
      "File \u001b[1;32m<string>:1\u001b[0m\n",
      "File \u001b[1;32m~\\AppData\\Local\\Packages\\PythonSoftwareFoundation.Python.3.10_qbz5n2kfra8p0\\LocalCache\\local-packages\\Python310\\site-packages\\impedance\\models\\circuits\\elements.py:29\u001b[0m, in \u001b[0;36melement.<locals>.decorator.<locals>.wrapper\u001b[1;34m(p, f)\u001b[0m\n\u001b[0;32m     27\u001b[0m \u001b[38;5;28;01mdef\u001b[39;00m \u001b[38;5;21mwrapper\u001b[39m(p, f):\n\u001b[0;32m     28\u001b[0m     typeChecker(p, f, func\u001b[38;5;241m.\u001b[39m\u001b[38;5;18m__name__\u001b[39m, num_params)\n\u001b[1;32m---> 29\u001b[0m     \u001b[38;5;28;01mreturn\u001b[39;00m \u001b[43mfunc\u001b[49m\u001b[43m(\u001b[49m\u001b[43mp\u001b[49m\u001b[43m,\u001b[49m\u001b[43m \u001b[49m\u001b[43mf\u001b[49m\u001b[43m)\u001b[49m\n",
      "File \u001b[1;32me:\\Github Repos\\Code\\December Final\\models.py:86\u001b[0m, in \u001b[0;36mTLMlinnew\u001b[1;34m(p, f)\u001b[0m\n\u001b[0;32m     84\u001b[0m kk1\u001b[38;5;241m=\u001b[39m\u001b[38;5;241m-\u001b[39m\u001b[38;5;241m2\u001b[39m\u001b[38;5;241m/\u001b[39m\u001b[38;5;241m3\u001b[39m\u001b[38;5;241m*\u001b[39m(S\u001b[38;5;241m*\u001b[39m(t12\u001b[38;5;241m*\u001b[39m\u001b[38;5;241m*\u001b[39m(\u001b[38;5;241m-\u001b[39m\u001b[38;5;241m1\u001b[39m\u001b[38;5;241m/\u001b[39m\u001b[38;5;241m2\u001b[39m)\u001b[38;5;241m/\u001b[39m(t12\u001b[38;5;241m-\u001b[39m\u001b[38;5;241m1\u001b[39m)))\n\u001b[0;32m     85\u001b[0m kk2\u001b[38;5;241m=\u001b[39m\u001b[38;5;241m-\u001b[39m\u001b[38;5;241m2\u001b[39m\u001b[38;5;241m/\u001b[39m\u001b[38;5;241m3\u001b[39m\u001b[38;5;241m*\u001b[39m(t12\u001b[38;5;241m*\u001b[39mS\u001b[38;5;241m/\u001b[39m(t12\u001b[38;5;241m-\u001b[39m\u001b[38;5;241m1\u001b[39m))\n\u001b[1;32m---> 86\u001b[0m Zelem \u001b[38;5;241m=\u001b[39m \u001b[43m(\u001b[49m\u001b[38;5;241;43m2\u001b[39;49m\u001b[38;5;241;43m*\u001b[39;49m\u001b[43mR1\u001b[49m\u001b[38;5;241;43m/\u001b[39;49m\u001b[43mS\u001b[49m\u001b[43m)\u001b[49m\u001b[38;5;241;43m*\u001b[39;49m\u001b[43m(\u001b[49m\u001b[43mmp\u001b[49m\u001b[38;5;241;43m.\u001b[39;49m\u001b[43mbesseli\u001b[49m\u001b[43m(\u001b[49m\u001b[38;5;241;43m1\u001b[39;49m\u001b[38;5;241;43m/\u001b[39;49m\u001b[38;5;241;43m3\u001b[39;49m\u001b[43m,\u001b[49m\u001b[43m \u001b[49m\u001b[43mkk1\u001b[49m\u001b[43m)\u001b[49m\u001b[38;5;241;43m*\u001b[39;49m\u001b[43mmp\u001b[49m\u001b[38;5;241;43m.\u001b[39;49m\u001b[43mbesseli\u001b[49m\u001b[43m(\u001b[49m\u001b[38;5;241;43m2\u001b[39;49m\u001b[38;5;241;43m/\u001b[39;49m\u001b[38;5;241;43m3\u001b[39;49m\u001b[43m,\u001b[49m\u001b[43m \u001b[49m\u001b[43mkk2\u001b[49m\u001b[43m)\u001b[49m\u001b[38;5;241;43m-\u001b[39;49m\u001b[43mmp\u001b[49m\u001b[38;5;241;43m.\u001b[39;49m\u001b[43mbesseli\u001b[49m\u001b[43m(\u001b[49m\u001b[38;5;241;43m-\u001b[39;49m\u001b[38;5;241;43m1\u001b[39;49m\u001b[38;5;241;43m/\u001b[39;49m\u001b[38;5;241;43m3\u001b[39;49m\u001b[43m,\u001b[49m\u001b[43m \u001b[49m\u001b[43mkk1\u001b[49m\u001b[43m)\u001b[49m\u001b[38;5;241;43m*\u001b[39;49m\u001b[43mmp\u001b[49m\u001b[38;5;241;43m.\u001b[39;49m\u001b[43mbesseli\u001b[49m\u001b[43m(\u001b[49m\u001b[38;5;241;43m-\u001b[39;49m\u001b[38;5;241;43m2\u001b[39;49m\u001b[38;5;241;43m/\u001b[39;49m\u001b[38;5;241;43m3\u001b[39;49m\u001b[43m,\u001b[49m\u001b[43m \u001b[49m\u001b[43mkk2\u001b[49m\u001b[43m)\u001b[49m\u001b[43m)\u001b[49m\u001b[38;5;241;43m/\u001b[39;49m\u001b[43m(\u001b[49m\u001b[43m(\u001b[49m\u001b[43mmp\u001b[49m\u001b[38;5;241;43m.\u001b[39;49m\u001b[43mbesseli\u001b[49m\u001b[43m(\u001b[49m\u001b[38;5;241;43m-\u001b[39;49m\u001b[38;5;241;43m1\u001b[39;49m\u001b[38;5;241;43m/\u001b[39;49m\u001b[38;5;241;43m3\u001b[39;49m\u001b[43m,\u001b[49m\u001b[43m \u001b[49m\u001b[43mkk1\u001b[49m\u001b[43m)\u001b[49m\u001b[43m)\u001b[49m\u001b[38;5;241;43m*\u001b[39;49m\u001b[43mmp\u001b[49m\u001b[38;5;241;43m.\u001b[39;49m\u001b[43mbesseli\u001b[49m\u001b[43m(\u001b[49m\u001b[38;5;241;43m1\u001b[39;49m\u001b[38;5;241;43m/\u001b[39;49m\u001b[38;5;241;43m3\u001b[39;49m\u001b[43m,\u001b[49m\u001b[43m \u001b[49m\u001b[43mkk2\u001b[49m\u001b[43m)\u001b[49m\u001b[38;5;241;43m-\u001b[39;49m\u001b[43mmp\u001b[49m\u001b[38;5;241;43m.\u001b[39;49m\u001b[43mbesseli\u001b[49m\u001b[43m(\u001b[49m\u001b[38;5;241;43m1\u001b[39;49m\u001b[38;5;241;43m/\u001b[39;49m\u001b[38;5;241;43m3\u001b[39;49m\u001b[43m,\u001b[49m\u001b[43m \u001b[49m\u001b[43mkk1\u001b[49m\u001b[43m)\u001b[49m\u001b[38;5;241;43m*\u001b[39;49m\u001b[43mmp\u001b[49m\u001b[38;5;241;43m.\u001b[39;49m\u001b[43mbesseli\u001b[49m\u001b[43m(\u001b[49m\u001b[38;5;241;43m-\u001b[39;49m\u001b[38;5;241;43m1\u001b[39;49m\u001b[38;5;241;43m/\u001b[39;49m\u001b[38;5;241;43m3\u001b[39;49m\u001b[43m,\u001b[49m\u001b[43m \u001b[49m\u001b[43mkk2\u001b[49m\u001b[43m)\u001b[49m\u001b[43m)\u001b[49m\n\u001b[0;32m     87\u001b[0m Zelem\u001b[38;5;241m=\u001b[39mmp\u001b[38;5;241m.\u001b[39mnstr(Zelem,n\u001b[38;5;241m=\u001b[39m\u001b[38;5;241m50\u001b[39m)\n\u001b[0;32m     88\u001b[0m Zelem \u001b[38;5;241m=\u001b[39m Zelem\u001b[38;5;241m.\u001b[39mreplace(\u001b[38;5;124m'\u001b[39m\u001b[38;5;124m \u001b[39m\u001b[38;5;124m'\u001b[39m,\u001b[38;5;124m'\u001b[39m\u001b[38;5;124m'\u001b[39m)\u001b[38;5;241m.\u001b[39mreplace(\u001b[38;5;124m'\u001b[39m\u001b[38;5;124m(\u001b[39m\u001b[38;5;124m'\u001b[39m,\u001b[38;5;124m'\u001b[39m\u001b[38;5;124m'\u001b[39m)\u001b[38;5;241m.\u001b[39mreplace(\u001b[38;5;124m'\u001b[39m\u001b[38;5;124m)\u001b[39m\u001b[38;5;124m'\u001b[39m,\u001b[38;5;124m'\u001b[39m\u001b[38;5;124m'\u001b[39m) \n",
      "File \u001b[1;32m~\\AppData\\Local\\Packages\\PythonSoftwareFoundation.Python.3.10_qbz5n2kfra8p0\\LocalCache\\local-packages\\Python310\\site-packages\\mpmath\\ctx_mp_python.py:523\u001b[0m, in \u001b[0;36m_mpc.__div__\u001b[1;34m(s, t)\u001b[0m\n\u001b[0;32m    521\u001b[0m         \u001b[38;5;28;01mreturn\u001b[39;00m v\n\u001b[0;32m    522\u001b[0m v \u001b[38;5;241m=\u001b[39m new(\u001b[38;5;28mcls\u001b[39m)\n\u001b[1;32m--> 523\u001b[0m v\u001b[38;5;241m.\u001b[39m_mpc_ \u001b[38;5;241m=\u001b[39m \u001b[43mmpc_div\u001b[49m\u001b[43m(\u001b[49m\u001b[43ms\u001b[49m\u001b[38;5;241;43m.\u001b[39;49m\u001b[43m_mpc_\u001b[49m\u001b[43m,\u001b[49m\u001b[43m \u001b[49m\u001b[43mt\u001b[49m\u001b[38;5;241;43m.\u001b[39;49m\u001b[43m_mpc_\u001b[49m\u001b[43m,\u001b[49m\u001b[43m \u001b[49m\u001b[43mprec\u001b[49m\u001b[43m,\u001b[49m\u001b[43m \u001b[49m\u001b[43mrounding\u001b[49m\u001b[43m)\u001b[49m\n\u001b[0;32m    524\u001b[0m \u001b[38;5;28;01mreturn\u001b[39;00m v\n",
      "File \u001b[1;32m~\\AppData\\Local\\Packages\\PythonSoftwareFoundation.Python.3.10_qbz5n2kfra8p0\\LocalCache\\local-packages\\Python310\\site-packages\\mpmath\\libmp\\libmpc.py:203\u001b[0m, in \u001b[0;36mmpc_div\u001b[1;34m(z, w, prec, rnd)\u001b[0m\n\u001b[0;32m    201\u001b[0m t \u001b[38;5;241m=\u001b[39m mpf_add(mpf_mul(a,c), mpf_mul(b,d), wp)\n\u001b[0;32m    202\u001b[0m u \u001b[38;5;241m=\u001b[39m mpf_sub(mpf_mul(b,c), mpf_mul(a,d), wp)\n\u001b[1;32m--> 203\u001b[0m \u001b[38;5;28;01mreturn\u001b[39;00m \u001b[43mmpf_div\u001b[49m\u001b[43m(\u001b[49m\u001b[43mt\u001b[49m\u001b[43m,\u001b[49m\u001b[43mmag\u001b[49m\u001b[43m,\u001b[49m\u001b[43mprec\u001b[49m\u001b[43m,\u001b[49m\u001b[43mrnd\u001b[49m\u001b[43m)\u001b[49m, mpf_div(u,mag,prec,rnd)\n",
      "File \u001b[1;32m~\\AppData\\Local\\Packages\\PythonSoftwareFoundation.Python.3.10_qbz5n2kfra8p0\\LocalCache\\local-packages\\Python310\\site-packages\\mpmath\\libmp\\libmpf.py:956\u001b[0m, in \u001b[0;36mmpf_div\u001b[1;34m(s, t, prec, rnd)\u001b[0m\n\u001b[0;32m    954\u001b[0m \u001b[38;5;28;01mif\u001b[39;00m \u001b[38;5;129;01mnot\u001b[39;00m sman \u001b[38;5;129;01mor\u001b[39;00m \u001b[38;5;129;01mnot\u001b[39;00m tman:\n\u001b[0;32m    955\u001b[0m     \u001b[38;5;28;01mif\u001b[39;00m s \u001b[38;5;241m==\u001b[39m fzero:\n\u001b[1;32m--> 956\u001b[0m         \u001b[38;5;28;01mif\u001b[39;00m t \u001b[38;5;241m==\u001b[39m fzero: \u001b[38;5;28;01mraise\u001b[39;00m \u001b[38;5;167;01mZeroDivisionError\u001b[39;00m\n\u001b[0;32m    957\u001b[0m         \u001b[38;5;28;01mif\u001b[39;00m t \u001b[38;5;241m==\u001b[39m fnan: \u001b[38;5;28;01mreturn\u001b[39;00m fnan\n\u001b[0;32m    958\u001b[0m         \u001b[38;5;28;01mreturn\u001b[39;00m fzero\n",
      "\u001b[1;31mZeroDivisionError\u001b[0m: "
     ]
    }
   ],
   "source": [
    "%matplotlib ipympl\n",
    "from models import *\n",
    "# from models import find_index_of_nearest\n",
    "from impedance.preprocessing import readCSV, readBioLogic\n",
    "from impedance.visualization import plot_nyquist,plot_bode\n",
    "from impedance.models.circuits import CustomCircuit\n",
    "import numpy as np\n",
    "import scipy as sp\n",
    "import matplotlib.pyplot as plt\n",
    "from arbitau import give_z_for_arbitary_tau, tau_plotter\n",
    "from scipy.integrate import solve_bvp\n",
    "\n",
    "\n",
    "#gen data\n",
    "\n",
    "freq_list=np.logspace(-1,4,100)\n",
    "\n",
    "Q=6.61e-4\n",
    "alpha=1\n",
    "\n",
    "R1=5.22*194.5\n",
    "delta1=0.12\n",
    "R2=3.47*194.5\n",
    "delta2=0.17\n",
    "R3=2.15*194.5\n",
    "\n",
    "Rhfr=40\n",
    "Rrxn=40\n",
    "Qdl=1e-6\n",
    "alpha2=1\n",
    "\n",
    "# cmodel=CustomCircuit(initial_guess=[R1,R1*Q,R2*Q,delta1,alpha],circuit=\"TLMtwo_1\")\n",
    "cmodel=CustomCircuit(initial_guess=[R1,R1*Q,R2*Q,alpha],circuit=\"TLMlinnew_1\")\n",
    "\n",
    "zexp=cmodel.predict(frequencies=freq_list)\n",
    "\n",
    "fig= plt.figure()\n",
    "ax_nyq=fig.add_subplot()\n",
    "\n",
    "fig2 = plt.figure()\n",
    "ax_phs=fig2.add_subplot()\n",
    "\n",
    "#plot nyquist plot of the taken data\n",
    "plot_nyquist(zexp,ax=ax_nyq,labelsize=10,ticksize=8)\n",
    "\n",
    "#plot bode plot of the taken data\n",
    "ax_phs.plot(freq_list, -np.angle(zexp, deg=True), '.-',color=\"black\")\n",
    "ax_phs.set_ylabel(r'$-\\phi_Z(\\omega)$' + r'$[^o]$', fontsize=10,color=\"black\")\n",
    "ax_phs.set_xscale('log')\n",
    "ax_phs.tick_params(axis='y', labelcolor=\"red\")\n",
    "ax_phs.grid()\n",
    "fig.tight_layout()\n",
    "\n",
    "print(np.min(-np.angle(zexp,deg=True)))\n",
    "dip_angle = alpha*45-np.min(-np.angle(zexp,deg=True))\n",
    "print(dip_angle)"
   ]
  }
 ],
 "metadata": {
  "kernelspec": {
   "display_name": "Python 3",
   "language": "python",
   "name": "python3"
  },
  "language_info": {
   "codemirror_mode": {
    "name": "ipython",
    "version": 3
   },
   "file_extension": ".py",
   "mimetype": "text/x-python",
   "name": "python",
   "nbconvert_exporter": "python",
   "pygments_lexer": "ipython3",
   "version": "3.10.11"
  }
 },
 "nbformat": 4,
 "nbformat_minor": 2
}
