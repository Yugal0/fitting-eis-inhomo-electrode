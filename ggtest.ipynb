{
 "cells": [
  {
   "cell_type": "code",
   "execution_count": 14,
   "metadata": {},
   "outputs": [
    {
     "name": "stdout",
     "output_type": "stream",
     "text": [
      "308.5583333333333\n"
     ]
    }
   ],
   "source": [
    "R1=1000\n",
    "\n",
    "\n",
    "\n",
    "R2=500\n",
    "\n",
    "Q1=1e-4\n",
    "Q2=2e-4\n",
    "\n",
    "delta1=0.4\n",
    "delta2=1-delta1\n",
    "\n",
    "L=(R1*delta1*((Q1/Q2)**2*delta1**2+3*(Q1/Q2)*delta1*delta2+3*delta2**2)+delta2**3*R1/R2)/(3*(Q1*delta1/Q2+delta2)**2)\n",
    "\n",
    "print(L)"
   ]
  }
 ],
 "metadata": {
  "kernelspec": {
   "display_name": "Python 3",
   "language": "python",
   "name": "python3"
  },
  "language_info": {
   "codemirror_mode": {
    "name": "ipython",
    "version": 3
   },
   "file_extension": ".py",
   "mimetype": "text/x-python",
   "name": "python",
   "nbconvert_exporter": "python",
   "pygments_lexer": "ipython3",
   "version": "3.10.11"
  }
 },
 "nbformat": 4,
 "nbformat_minor": 2
}
